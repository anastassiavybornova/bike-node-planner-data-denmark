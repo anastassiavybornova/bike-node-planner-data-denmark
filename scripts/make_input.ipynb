{
 "cells": [
  {
   "cell_type": "markdown",
   "metadata": {},
   "source": [
    "Script that \n",
    "* takes as input the files config-layers-X (X: polygon, point, linestring), and municipality codes\n",
    "* for all municipality codes jointly, makes the \"technical network\"\n",
    "* for each X,\n",
    "    * determine evaluation layers\n",
    "    * fetch and merge gdfs for given muni (if they exist)\n",
    "    * save to `input-for-bike-node-planner/X`"
   ]
  },
  {
   "cell_type": "code",
   "execution_count": 1,
   "metadata": {},
   "outputs": [],
   "source": [
    "# import libraries\n",
    "import os\n",
    "import yaml\n",
    "import geopandas as gpd\n",
    "import pandas as pd\n",
    "from shapely.geometry import LineString\n",
    "\n",
    "exec(open(\"../src/helper_functions.py\").read())\n",
    "exec(open(\"../src/tech-to-comm.py\").read())"
   ]
  },
  {
   "cell_type": "code",
   "execution_count": 2,
   "metadata": {},
   "outputs": [],
   "source": [
    "# read config files\n",
    "config = yaml.load(\n",
    "    open(\"../config.yml\"), \n",
    "    Loader=yaml.FullLoader)\n",
    "proj_crs = config[\"proj_crs\"]\n",
    "wfs_version = config[\"geofa_wfs_version\"]\n",
    "node_layer_name = config[\"geofa_nodes_layer_name\"]\n",
    "stretches_layer_name = config[\"geofa_stretches_layer_name\"]\n",
    "\n",
    "\n",
    "municipalities = yaml.load(\n",
    "    open(\"../config-municipalities.yml\"), \n",
    "    Loader=yaml.FullLoader)\n",
    "codes = municipalities[\"kommunekode\"]\n",
    "\n",
    "geomtypes = [\"point\", \"linestring\", \"polygon\"]\n",
    "config_layers = {}\n",
    "for geomtype in geomtypes:\n",
    "    config_layers[geomtype] = yaml.load(\n",
    "        open(f\"../config-layers-{geomtype}.yml\"), \n",
    "        Loader=yaml.FullLoader)"
   ]
  },
  {
   "cell_type": "code",
   "execution_count": 3,
   "metadata": {},
   "outputs": [
    {
     "name": "stdout",
     "output_type": "stream",
     "text": [
      "Folders created!\n"
     ]
    }
   ],
   "source": [
    "# make folders\n",
    "exec(open(\"./make_folders.py\").read())"
   ]
  },
  {
   "cell_type": "code",
   "execution_count": 4,
   "metadata": {},
   "outputs": [
    {
     "name": "stdout",
     "output_type": "stream",
     "text": [
      "Data folder cleaned!\n"
     ]
    }
   ],
   "source": [
    "# remove previous output\n",
    "remove_output_data(\n",
    "    [\n",
    "        \"../input-for-bike-node-planner/dem\",\n",
    "        \"../input-for-bike-node-planner/elevation\",\n",
    "        \"../input-for-bike-node-planner/linestring/\",\n",
    "        \"../input-for-bike-node-planner/network/\",\n",
    "        \"../input-for-bike-node-planner/point/\",\n",
    "        \"../input-for-bike-node-planner/polygon/\",\n",
    "        \"../input-for-bike-node-planner/studyarea/\"        \n",
    "    ],\n",
    "    remove_previous_output=True,\n",
    ")"
   ]
  },
  {
   "cell_type": "markdown",
   "metadata": {},
   "source": [
    "**Study area**"
   ]
  },
  {
   "cell_type": "code",
   "execution_count": 5,
   "metadata": {},
   "outputs": [
    {
     "name": "stdout",
     "output_type": "stream",
     "text": [
      "Study area polygon created\n"
     ]
    }
   ],
   "source": [
    "### read in municipality boundaries & create study area polygon\n",
    "gdf = gpd.read_file(\"../data/municipality-boundaries/municipality-boundaries.gpkg\")\n",
    "gdf = gdf.to_crs(proj_crs) # make sure we have the right projected CRS\n",
    "gdf = gdf[gdf[\"kommunekode\"].isin(codes)] # filter to municipality codes indicated in config file\n",
    "gdf_studyarea = gpd.GeoDataFrame(\n",
    "    {\n",
    "        \"geometry\": [gdf.unary_union]\n",
    "    },\n",
    "    crs = proj_crs\n",
    ")\n",
    "gdf_studyarea.to_file(\n",
    "    filename = \"../input-for-bike-node-planner/studyarea/studyarea.gpkg\", \n",
    "    index = False)\n",
    "print(\"Study area polygon created\")\n",
    "del gdf"
   ]
  },
  {
   "cell_type": "markdown",
   "metadata": {},
   "source": [
    "**Network**"
   ]
  },
  {
   "cell_type": "code",
   "execution_count": 6,
   "metadata": {},
   "outputs": [],
   "source": [
    "# Fetch input data from GeoFA (technical network)\n",
    "\n",
    "url = f\"https://geofa.geodanmark.dk/ows/fkg/fkg/?request=GetFeature&typename={node_layer_name}&service=WFS&version={wfs_version}\"\n",
    "\n",
    "knudepunkter = gpd.read_file(url)\n",
    "\n",
    "url = f\"https://geofa.geodanmark.dk/ows/fkg/fkg/?request=GetFeature&typename={stretches_layer_name}&service=WFS&version={wfs_version}\"\n",
    "\n",
    "straekninger = gpd.read_file(url)\n",
    "\n",
    "assert len(knudepunkter) > 0, \"No nodes found\"\n",
    "assert len(straekninger) > 0, \"No stretches found\""
   ]
  },
  {
   "cell_type": "code",
   "execution_count": 24,
   "metadata": {},
   "outputs": [
    {
     "name": "stdout",
     "output_type": "stream",
     "text": [
      "Technical nodes and edges for study area saved!\n"
     ]
    }
   ],
   "source": [
    "### Cut technical network to study area extent\n",
    "\n",
    "# new_codes = [int(code[1:]) for code in codes]\n",
    "\n",
    "# nodes = knudepunkter[knudepunkter[\"kommunekode\"].isin(new_codes)]\n",
    "# edges = straekninger[straekninger[\"kommunekode\"].isin(new_codes)]\n",
    "\n",
    "# assert len(nodes) > 0, \"No nodes found in study area\"\n",
    "# assert len(edges) > 0, \"No stretches found in study area\"\n",
    "\n",
    "# ## Reproject to project CRS\n",
    "\n",
    "# nodes = nodes.to_crs(proj_crs)\n",
    "# edges = edges.to_crs(proj_crs)\n",
    "\n",
    "# # save\n",
    "# os.makedirs(\"../input-for-bike-node-planner/network/technical/\", exist_ok=True)\n",
    "# edges.to_file(\"../input-for-bike-node-planner/network/technical/edges_test.gpkg\", index = False)\n",
    "# nodes.to_file(\"../input-for-bike-node-planner/network/technical/nodes_test.gpkg\", index = False)\n",
    "\n",
    "# print(\"Technical nodes and edges for study area saved!\")"
   ]
  },
  {
   "cell_type": "code",
   "execution_count": 23,
   "metadata": {},
   "outputs": [
    {
     "name": "stdout",
     "output_type": "stream",
     "text": [
      "Technical nodes and edges for study area saved!\n"
     ]
    }
   ],
   "source": [
    "# limit to extent of study area\n",
    "assert straekninger.crs == gdf_studyarea.crs\n",
    "assert knudepunkter.crs == gdf_studyarea.crs\n",
    "\n",
    "edges_studyarea = straekninger.sjoin(gdf_studyarea, predicate=\"intersects\").copy()\n",
    "edges_studyarea.drop(columns=[\"index_right\"], inplace=True)\n",
    "nodes_studyarea = knudepunkter.clip(edges_studyarea.buffer(500).unary_union)\n",
    "\n",
    "# remove empty geometries\n",
    "edges_studyarea = edges_studyarea[edges_studyarea.geometry.notna()].reset_index(\n",
    "    drop=True\n",
    ")\n",
    "nodes_studyarea = nodes_studyarea[nodes_studyarea.geometry.notna()].reset_index(\n",
    "    drop=True\n",
    ")\n",
    "\n",
    "# assert there is one (and only one) LineString per edge geometry row\n",
    "nodes_studyarea = nodes_studyarea.explode(index_parts=False).reset_index(drop=True)\n",
    "assert all(nodes_studyarea.geometry.type == \"Point\")\n",
    "assert all(nodes_studyarea.geometry.is_valid)\n",
    "\n",
    "# assert there is one (and only one) Point per node geometry row\n",
    "edges_studyarea = edges_studyarea.explode(index_parts=False).reset_index(drop=True)\n",
    "assert all(edges_studyarea.geometry.type == \"LineString\")\n",
    "assert all(edges_studyarea.geometry.is_valid)\n",
    "\n",
    "# save\n",
    "os.makedirs(\"../input-for-bike-node-planner/network/technical/\", exist_ok=True)\n",
    "edges_studyarea.to_file(\n",
    "    \"../input-for-bike-node-planner/network/technical/edges_test_test.gpkg\", index=False\n",
    ")\n",
    "nodes_studyarea.to_file(\n",
    "    \"../input-for-bike-node-planner/network/technical/nodes_test_test.gpkg\", index=False\n",
    ")\n",
    "\n",
    "print(\"Technical nodes and edges for study area saved!\")"
   ]
  },
  {
   "cell_type": "code",
   "execution_count": 25,
   "metadata": {},
   "outputs": [],
   "source": [
    "edges_studyarea[\"edge_id\"] = edges_studyarea.id_cykelknudepunktsstraekning\n",
    "assert len(edges_studyarea) == len(edges_studyarea[\"edge_id\"].unique())\n",
    "\n",
    "nodes_studyarea[\"node_id\"] = nodes_studyarea.id_cykelknudepkt\n",
    "assert len(nodes_studyarea) == len(nodes_studyarea[\"node_id\"].unique())\n",
    "\n",
    "processed_edges = assign_edges_start_end_nodes(edges_studyarea, nodes_studyarea)\n",
    "\n",
    "processed_edges = order_edge_nodes(processed_edges)\n",
    "\n",
    "processed_edges = find_parallel_edges(processed_edges)\n",
    "\n",
    "assert len(processed_edges) == len(edges_studyarea)\n",
    "\n",
    "processed_nodes = nodes_studyarea.loc[\n",
    "    nodes_studyarea[\"node_id\"].isin(processed_edges[\"u\"])\n",
    "    | nodes_studyarea[\"node_id\"].isin(processed_edges[\"v\"])\n",
    "]"
   ]
  },
  {
   "cell_type": "code",
   "execution_count": 26,
   "metadata": {},
   "outputs": [
    {
     "name": "stdout",
     "output_type": "stream",
     "text": [
      "Processed nodes and edges for study area saved!\n"
     ]
    }
   ],
   "source": [
    "# save to files\n",
    "os.makedirs(\"../input-for-bike-node-planner/network/processed/\", exist_ok=True)\n",
    "processed_nodes.to_file(\n",
    "    \"../input-for-bike-node-planner/network/processed/nodes.gpkg\", index=False\n",
    ")\n",
    "processed_edges.to_file(\n",
    "    \"../input-for-bike-node-planner/network/processed/edges.gpkg\", index=False\n",
    ")\n",
    "# edges_communication_parallel.to_file(\n",
    "#     \"../input-for-bike-node-planner/network/processed/edges_parallel.gpkg\",\n",
    "#     index=False,\n",
    "# )\n",
    "\n",
    "print(\"Processed nodes and edges for study area saved!\")"
   ]
  },
  {
   "cell_type": "code",
   "execution_count": 27,
   "metadata": {},
   "outputs": [],
   "source": [
    "# # convert technical to communication layer\n",
    "# nodes_communication, edges_communication, edges_communication_parallel = technical_to_communication(\n",
    "#     node_gdf = nodes_studyarea,\n",
    "#     edge_gdf = edges_studyarea \n",
    "#     )\n",
    "\n",
    "# # save to files\n",
    "# os.makedirs(\"../input-for-bike-node-planner/network/communication/\", exist_ok=True)\n",
    "# nodes_communication.to_file(\n",
    "#     \"../input-for-bike-node-planner/network/communication/nodes.gpkg\", \n",
    "#     index = False)\n",
    "# edges_communication.to_file(\n",
    "#     \"../input-for-bike-node-planner/network/communication/edges.gpkg\", \n",
    "#     index = False)\n",
    "# edges_communication_parallel.to_file(\n",
    "#     \"../input-for-bike-node-planner/network/communication/edges_parallel.gpkg\", \n",
    "#     index = False)\n",
    "\n",
    "# print(\"Communication nodes and edges for study area saved!\")"
   ]
  },
  {
   "cell_type": "markdown",
   "metadata": {},
   "source": [
    "**Evaluation layers**"
   ]
  },
  {
   "cell_type": "code",
   "execution_count": 28,
   "metadata": {},
   "outputs": [
    {
     "name": "stdout",
     "output_type": "stream",
     "text": [
      "{'point': {'poi': {'land_besoegs': ['Museum', 'Forlystelsespark', 'Dyrepark, zoo', 'Dyrepark', 'Anden seværdighed', 'Frilandsmuseum', 'Aboret, blomsterpark o.l.'], 'land_fortid': ['Gravhøj', 'Vold eller voldsted', 'Langdysse', 'Jættestue', 'Fortidsminde/ruin', 'Skanse', 'Ruin', 'Batteri', 'Dysse', 'Runddysse', 'Andet historisk anlæg', 'Fæstningsanlæg', 'Oldtidsvej', 'Vikingeborg', 'Oldtidsminde'], 'land_landemaerke': ['Kirke', 'Fyrtårn', 'Vejrmølle', 'Herregård', 'Slot'], 'land_udflugt': ['Udsigtspunkt', 'Naturområde', 'Fugletårn/Udsigtstårn', 'Badestrand/-sted', 'Blå Flag strand', 'Badepunkt', 'Badevandsflag']}, 'facility': {'facilit_rasteplads': ['Bænk', 'Picnicbord', 'Legeplads', 'Borde-bænke/Picnic', 'Tørvejrsrum/Madpakkehus', 'Naturlegeplads', 'Vandlegeplads'], 'facilit_service': ['Toilet', 'Drikkevand', 'Cykelhandler', 'Vandpost', 'Cykeludlejere', 'Cykelservice', 'Cykelpumpestation/-servicepost']}, 'service': {'facilit_indkoeb': ['supermarked', 'bager', 'kiosk', 'slagter', 'Lokale smagsoplevelser', 'tankstation', 'fisk'], 'facilit_overnatning': ['Bed & Breakfast', 'Hotel', 'Campingplads', 'Slot/Herregård', 'Vandrehjem', 'Feriecenter', 'Kro'], 'facilit_service': ['Turistkontor']}}, 'linestring': {}, 'polygon': {'agriculture': {'land_anvendelse': ['Dyrkede afgrøder på marker', 'Afgræssede marker', 'Braklagte marker']}, 'culture': {'land_anvendelse': ['Bykerne'], 'land_vaerdifuld': ['Værdifuldt kulturmiljø', 'Bevaringsværdig landskab', 'Kulturhistorisk bevaringsværdi']}, 'sommerhus': {'land_anvendelse': ['Sommerhusområde skov', 'Sommerhusområde']}, 'nature': {'land_anvendelse': ['Løvtræ', 'Blandet', 'Sandklit', 'Skov', 'Sø', 'Vådområde', 'Hede', 'Nåletræ', 'Kratbevoksning'], 'land_beskyttnatur_flade': ['Beskyttet natur'], 'land_frednatpark': ['Fredet område', 'Bekendtgørelsesfredning', 'Naturnationalpark', 'Naturpark', 'Nationalpark'], 'land_vaerdifuld': ['Naturbeskyttelsesområde']}, 'verify': {'land_anvendelse': ['Andre', 'Erhverv', 'Energiforsyningsanlæg', 'Militært anlæg', 'Høj bebyggelse', 'Lufthavn', 'Affaldsanlæg']}}}\n"
     ]
    }
   ],
   "source": [
    "# create a dictionary of evaluation layers (based on config file inputs)\n",
    "\n",
    "layer_dict = {}\n",
    "\n",
    "for geomtype in geomtypes:\n",
    "\n",
    "    layer_dict[geomtype] = {}\n",
    "\n",
    "    # determine evaluation layers\n",
    "    layers = []\n",
    "    for v in config_layers[geomtype].values():\n",
    "        layers += list(set(v.values()))\n",
    "    layers = list(set(layers))\n",
    "    \n",
    "    # determine data sets that go into each layer\n",
    "\n",
    "    # key is name of merged output layer, value is a dict \n",
    "    for layer in layers:\n",
    "        layer_dict[geomtype][layer] = {}\n",
    "    \n",
    "    # adding data source as key to dictindict IF relevant to layer\n",
    "    for datasource, vdict in config_layers[geomtype].items():\n",
    "        for layer in (set(vdict.values())):\n",
    "            layer_dict[geomtype][layer][datasource] = []\n",
    "    \n",
    "    for datasource, vdict in config_layers[geomtype].items():\n",
    "        for k, v in vdict.items():\n",
    "            layer_dict[geomtype][v][datasource] += [k]\n",
    "\n",
    "for geomtype in geomtypes:\n",
    "    if \"ignore\" in layer_dict[geomtype]:\n",
    "        del layer_dict[geomtype][\"ignore\"]\n",
    "\n",
    "print(layer_dict)"
   ]
  },
  {
   "cell_type": "code",
   "execution_count": 29,
   "metadata": {},
   "outputs": [
    {
     "name": "stdout",
     "output_type": "stream",
     "text": [
      "point\n",
      "\t poi\n",
      "\t \t 0320 land_besoegs\n",
      "\t \t 0336 land_besoegs\n",
      "\t \t 0430 land_besoegs\n",
      "\t \t 0450 land_besoegs\n",
      "\t \t 0461 land_besoegs\n",
      "\t \t 0320 land_fortid\n",
      "\t \t 0336 land_fortid\n",
      "\t \t 0430 land_fortid\n",
      "\t \t 0450 land_fortid\n",
      "\t \t 0461 land_fortid\n",
      "\t \t 0320 land_landemaerke\n",
      "\t \t 0336 land_landemaerke\n",
      "\t \t 0430 land_landemaerke\n",
      "\t \t 0450 land_landemaerke\n",
      "\t \t 0461 land_landemaerke\n",
      "\t \t 0320 land_udflugt\n",
      "\t \t 0336 land_udflugt\n",
      "\t \t 0430 land_udflugt\n",
      "\t \t 0450 land_udflugt\n",
      "\t \t 0461 land_udflugt\n",
      "\t poi saved\n",
      "\t facility\n",
      "\t \t 0320 facilit_rasteplads\n",
      "\t \t 0336 facilit_rasteplads\n",
      "\t \t 0430 facilit_rasteplads\n",
      "\t \t 0450 facilit_rasteplads\n",
      "\t \t 0461 facilit_rasteplads\n",
      "\t \t 0320 facilit_service\n",
      "\t \t 0336 facilit_service\n",
      "\t \t 0430 facilit_service\n",
      "\t \t 0450 facilit_service\n",
      "\t \t 0461 facilit_service\n",
      "\t facility saved\n",
      "\t service\n",
      "\t \t 0320 facilit_indkoeb\n",
      "\t \t 0336 facilit_indkoeb\n",
      "\t \t 0430 facilit_indkoeb\n",
      "\t \t 0450 facilit_indkoeb\n",
      "\t \t 0461 facilit_indkoeb\n",
      "\t \t 0320 facilit_overnatning\n",
      "\t \t 0336 facilit_overnatning\n",
      "\t \t 0430 facilit_overnatning\n",
      "\t \t 0450 facilit_overnatning\n",
      "\t \t 0461 facilit_overnatning\n",
      "\t \t 0320 facilit_service\n",
      "\t \t 0336 facilit_service\n",
      "\t \t 0430 facilit_service\n",
      "\t \t 0450 facilit_service\n",
      "\t \t 0461 facilit_service\n",
      "\t service saved\n",
      "linestring\n",
      "polygon\n",
      "\t agriculture\n",
      "\t \t 0320 land_anvendelse\n",
      "\t \t 0336 land_anvendelse\n",
      "\t \t 0430 land_anvendelse\n",
      "\t \t 0450 land_anvendelse\n",
      "\t \t 0461 land_anvendelse\n",
      "\t agriculture saved\n",
      "\t culture\n",
      "\t \t 0320 land_anvendelse\n",
      "\t \t 0336 land_anvendelse\n",
      "\t \t 0430 land_anvendelse\n",
      "\t \t 0450 land_anvendelse\n",
      "\t \t 0461 land_anvendelse\n",
      "\t \t 0320 land_vaerdifuld\n",
      "\t \t 0336 land_vaerdifuld\n",
      "\t \t 0430 land_vaerdifuld\n",
      "\t \t 0450 land_vaerdifuld\n",
      "\t \t 0461 land_vaerdifuld\n",
      "\t culture saved\n",
      "\t sommerhus\n",
      "\t \t 0320 land_anvendelse\n",
      "\t \t 0336 land_anvendelse\n",
      "\t \t 0430 land_anvendelse\n",
      "\t \t 0450 land_anvendelse\n",
      "\t \t 0461 land_anvendelse\n",
      "\t sommerhus saved\n",
      "\t nature\n",
      "\t \t 0320 land_anvendelse\n",
      "\t \t 0336 land_anvendelse\n",
      "\t \t 0430 land_anvendelse\n",
      "\t \t 0450 land_anvendelse\n",
      "\t \t 0461 land_anvendelse\n",
      "\t \t 0320 land_beskyttnatur_flade\n",
      "\t \t 0336 land_beskyttnatur_flade\n",
      "\t \t 0430 land_beskyttnatur_flade\n",
      "\t \t 0450 land_beskyttnatur_flade\n",
      "\t \t 0461 land_beskyttnatur_flade\n",
      "\t \t 0320 land_frednatpark\n",
      "\t \t 0336 land_frednatpark\n",
      "\t \t 0430 land_frednatpark\n",
      "\t \t 0450 land_frednatpark\n",
      "\t \t 0461 land_frednatpark\n",
      "\t \t 0320 land_vaerdifuld\n",
      "\t \t 0336 land_vaerdifuld\n",
      "\t \t 0430 land_vaerdifuld\n",
      "\t \t 0450 land_vaerdifuld\n",
      "\t \t 0461 land_vaerdifuld\n",
      "\t nature saved\n",
      "\t verify\n",
      "\t \t 0320 land_anvendelse\n",
      "\t \t 0336 land_anvendelse\n",
      "\t \t 0430 land_anvendelse\n",
      "\t \t 0450 land_anvendelse\n",
      "\t \t 0461 land_anvendelse\n",
      "\t verify saved\n"
     ]
    }
   ],
   "source": [
    "# for each layer type (point/linestring/polygon),\n",
    "for geomtype in geomtypes:\n",
    "\n",
    "    print(geomtype)\n",
    "    \n",
    "    # go through all evaluation layers for that geomtype... \n",
    "    for layername, datadict in layer_dict[geomtype].items():\n",
    "    \n",
    "        print(\"\\t\", layername)\n",
    "        final_gdf = gpd.GeoDataFrame()\n",
    "        \n",
    "        # go through each data source for that evaluation layer...\n",
    "        for k, v in datadict.items():\n",
    "\n",
    "            gdf = gpd.GeoDataFrame()\n",
    "\n",
    "            # and fetch it for each municipality\n",
    "            for code in codes:\n",
    "                print(\"\\t \\t\", code, k)\n",
    "                # for each code, check if file exists, if yes: read it in, if not empty: concatenate\n",
    "                fp = f\"../data/{geomtype}/{code}/{k}.gpkg\"\n",
    "                if os.path.exists(fp):\n",
    "                    gdf_muni = gpd.read_file(fp)\n",
    "                    if not gdf_muni.empty:\n",
    "                        gdf = pd.concat(\n",
    "                            [\n",
    "                                gdf,\n",
    "                                gdf_muni\n",
    "                            ]\n",
    "                        )\n",
    "\n",
    "            # if at least one of the municipalities has data from this data source,\n",
    "            # add it to final gdf\n",
    "            if not gdf.empty:\n",
    "                final_gdf = pd.concat(\n",
    "                    [\n",
    "                        final_gdf,\n",
    "                        gdf[gdf[\"type\"].isin(v)]\n",
    "                    ]\n",
    "                )\n",
    "\n",
    "        # save evaluation layer to file, if not empty\n",
    "        if not final_gdf.empty:\n",
    "            final_gdf = final_gdf.reset_index(drop=True)\n",
    "            final_gdf.to_file(\n",
    "                f\"../input-for-bike-node-planner/{geomtype}/{layername}.gpkg\", \n",
    "                index = False\n",
    "            )\n",
    "            print(\"\\t\", f\"{layername} saved\")\n",
    "        else:\n",
    "            print(\"\\t\", f\"No data found for layer {layername}\")"
   ]
  },
  {
   "cell_type": "markdown",
   "metadata": {},
   "source": [
    "**Elevation**"
   ]
  },
  {
   "cell_type": "code",
   "execution_count": 30,
   "metadata": {},
   "outputs": [
    {
     "name": "stdout",
     "output_type": "stream",
     "text": [
      "Data folder cleaned!\n",
      "Downloading and merging elevation data. This may take a while... \n",
      "Elevation data downloaded! Starting to merge...\n"
     ]
    },
    {
     "name": "stderr",
     "output_type": "stream",
     "text": [
      "/opt/miniconda3/envs/knupu/lib/python3.9/site-packages/osgeo/gdal.py:287: FutureWarning: Neither gdal.UseExceptions() nor gdal.DontUseExceptions() has been explicitly called. In GDAL 4.0, exceptions will be enabled by default.\n",
      "  warnings.warn(\n"
     ]
    },
    {
     "name": "stdout",
     "output_type": "stream",
     "text": [
      "Elevation data ready!\n"
     ]
    }
   ],
   "source": [
    "exec(open(\"./prepare_elevation_data.py\").read())"
   ]
  },
  {
   "cell_type": "code",
   "execution_count": 31,
   "metadata": {},
   "outputs": [
    {
     "name": "stdout",
     "output_type": "stream",
     "text": [
      "All done! Now you can copy-paste \n",
      "all subfolders of '/input-for-bike-node-planner/' \n",
      "into the '/data/input/' folder of the main repo\n"
     ]
    }
   ],
   "source": [
    "print(\"All done! Now you can copy-paste \\nall subfolders of '/input-for-bike-node-planner/' \\ninto the '/data/input/' folder of the main repo\")"
   ]
  },
  {
   "cell_type": "code",
   "execution_count": null,
   "metadata": {},
   "outputs": [],
   "source": []
  }
 ],
 "metadata": {
  "kernelspec": {
   "display_name": "Python 3",
   "language": "python",
   "name": "python3"
  },
  "language_info": {
   "codemirror_mode": {
    "name": "ipython",
    "version": 3
   },
   "file_extension": ".py",
   "mimetype": "text/x-python",
   "name": "python",
   "nbconvert_exporter": "python",
   "pygments_lexer": "ipython3",
   "version": "3.9.16"
  }
 },
 "nbformat": 4,
 "nbformat_minor": 2
}
