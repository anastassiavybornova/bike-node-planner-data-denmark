{
 "cells": [
  {
   "cell_type": "markdown",
   "metadata": {},
   "source": [
    "Script that \n",
    "* takes as input the files config-layers-X (X: polygon, point, linestring), and municipality codes\n",
    "* for all municipality codes jointly, makes the \"technical network\"\n",
    "* for each X,\n",
    "    * determine evaluation layers\n",
    "    * fetch and merge gdfs for given muni (if they exist)\n",
    "    * save to `input-for-bike-node-planner/X`"
   ]
  },
  {
   "cell_type": "code",
   "execution_count": 1,
   "metadata": {},
   "outputs": [],
   "source": [
    "# import libraries\n",
    "import os\n",
    "import yaml\n",
    "import geopandas as gpd\n",
    "import pandas as pd\n",
    "\n",
    "exec(open(\"../src/helper_functions.py\").read())"
   ]
  },
  {
   "cell_type": "code",
   "execution_count": 2,
   "metadata": {},
   "outputs": [],
   "source": [
    "# read config files\n",
    "config = yaml.load(\n",
    "    open(\"../config.yml\"), \n",
    "    Loader=yaml.FullLoader)\n",
    "proj_crs = config[\"proj_crs\"]\n",
    "\n",
    "municipalities = yaml.load(\n",
    "    open(\"../config-municipalities.yml\"), \n",
    "    Loader=yaml.FullLoader)\n",
    "codes = municipalities[\"kommunekode\"]\n",
    "\n",
    "geomtypes = [\"point\", \"linestring\", \"polygon\"]\n",
    "config_layers = {}\n",
    "for geomtype in geomtypes:\n",
    "    config_layers[geomtype] = yaml.load(\n",
    "        open(f\"../config-layers-{geomtype}.yml\"), \n",
    "        Loader=yaml.FullLoader)"
   ]
  },
  {
   "cell_type": "code",
   "execution_count": 3,
   "metadata": {},
   "outputs": [
    {
     "name": "stdout",
     "output_type": "stream",
     "text": [
      "Folders created!\n"
     ]
    }
   ],
   "source": [
    "# make folders\n",
    "exec(open(\"./make_folders.py\").read())"
   ]
  },
  {
   "cell_type": "code",
   "execution_count": 4,
   "metadata": {},
   "outputs": [
    {
     "name": "stdout",
     "output_type": "stream",
     "text": [
      "Data folder cleaned!\n"
     ]
    }
   ],
   "source": [
    "# remove previous output\n",
    "remove_output_data(\n",
    "    [\n",
    "        # \"../input-for-bike-node-planner/dem\",\n",
    "        # \"../input-for-bike-node-planner/elevation\",\n",
    "        \"../input-for-bike-node-planner/linestring/\",\n",
    "        \"../input-for-bike-node-planner/network/\",\n",
    "        \"../input-for-bike-node-planner/point/\",\n",
    "        \"../input-for-bike-node-planner/polygon/\",\n",
    "        \"../input-for-bike-node-planner/studyarea/\"        \n",
    "    ],\n",
    "    remove_previous_output=True,\n",
    ")"
   ]
  },
  {
   "cell_type": "markdown",
   "metadata": {},
   "source": [
    "**Study area**"
   ]
  },
  {
   "cell_type": "code",
   "execution_count": 5,
   "metadata": {},
   "outputs": [
    {
     "name": "stdout",
     "output_type": "stream",
     "text": [
      "Study area polygon created\n"
     ]
    }
   ],
   "source": [
    "### read in municipality boundaries & create study area polygon\n",
    "gdf = gpd.read_file(\"../data/municipality-boundaries/municipality-boundaries.gpkg\")\n",
    "gdf = gdf.to_crs(proj_crs) # make sure we have the right projected CRS\n",
    "gdf = gdf[gdf[\"kommunekode\"].isin(codes)] # filter to municipality codes indicated in config file\n",
    "gdf_studyarea = gpd.GeoDataFrame(\n",
    "    {\n",
    "        \"geometry\": [gdf.unary_union]\n",
    "    },\n",
    "    crs = proj_crs\n",
    ")\n",
    "gdf_studyarea.to_file(\n",
    "    filename = \"../input-for-bike-node-planner/studyarea/studyarea.gpkg\", \n",
    "    index = False)\n",
    "print(\"Study area polygon created\")\n",
    "del gdf"
   ]
  },
  {
   "cell_type": "markdown",
   "metadata": {},
   "source": [
    "**Network**"
   ]
  },
  {
   "cell_type": "code",
   "execution_count": 6,
   "metadata": {},
   "outputs": [
    {
     "name": "stdout",
     "output_type": "stream",
     "text": [
      "Nodes and edges for study area saved!\n"
     ]
    }
   ],
   "source": [
    "### Cut technical network to study area extent\n",
    "\n",
    "# read in nodes & edges\n",
    "nodes = gpd.read_file(\"../data/network-technical/nodes.gpkg\")\n",
    "nodes = nodes.to_crs(proj_crs)\n",
    "\n",
    "edges = gpd.read_file(\"../data/network-technical/edges.gpkg\")\n",
    "edges = edges.to_crs(proj_crs)\n",
    "\n",
    "# limit to extent of study area\n",
    "edges_studyarea = edges.sjoin(gdf_studyarea, predicate=\"intersects\").copy()\n",
    "edges_studyarea.drop(columns = [\"index_right\"], inplace = True)\n",
    "nodes_studyarea = nodes.clip(edges_studyarea.buffer(500).unary_union)\n",
    "\n",
    "# save\n",
    "os.makedirs(\"../input-for-bike-node-planner/network/technical/\", exist_ok=True)\n",
    "edges_studyarea.to_file(\"../input-for-bike-node-planner/network/technical/edges.gpkg\", index = False)\n",
    "nodes_studyarea.to_file(\"../input-for-bike-node-planner/network/technical/nodes.gpkg\", index = False)\n",
    "\n",
    "print(\"Nodes and edges for study area saved!\")"
   ]
  },
  {
   "cell_type": "markdown",
   "metadata": {},
   "source": [
    "## PICK UP HERE! \n",
    "\n",
    "**above** add preprocessing steps for technical network from `02_make_technical_layer`\n",
    "\n",
    "**below** ADD CODE FOR TECH>COMM from `03_make_communication_layer`"
   ]
  },
  {
   "cell_type": "markdown",
   "metadata": {},
   "source": [
    "**Evaluation layers**"
   ]
  },
  {
   "cell_type": "code",
   "execution_count": 7,
   "metadata": {},
   "outputs": [
    {
     "name": "stdout",
     "output_type": "stream",
     "text": [
      "{'point': {'facility': {'facilit_rasteplads': ['Bænk', 'Picnicbord', 'Legeplads', 'Borde-bænke/Picnic', 'Tørvejrsrum/Madpakkehus', 'Naturlegeplads', 'Vandlegeplads'], 'facilit_service': ['Toilet', 'Drikkevand', 'Cykelhandler', 'Vandpost', 'Cykeludlejere', 'Cykelservice', 'Cykelpumpestation/-servicepost']}, 'service': {'facilit_indkoeb': ['supermarked', 'bager', 'kiosk', 'slagter', 'Lokale smagsoplevelser', 'tankstation', 'fisk'], 'facilit_overnatning': ['Bed & Breakfast', 'Hotel', 'Campingplads', 'Slot/Herregård', 'Vandrehjem', 'Feriecenter', 'Kro'], 'facilit_service': ['Turistkontor']}, 'poi': {'land_besoegs': ['Museum', 'Forlystelsespark', 'Dyrepark, zoo', 'Dyrepark', 'Anden seværdighed', 'Frilandsmuseum', 'Aboret, blomsterpark o.l.'], 'land_fortid': ['Gravhøj', 'Vold eller voldsted', 'Langdysse', 'Jættestue', 'Fortidsminde/ruin', 'Skanse', 'Ruin', 'Batteri', 'Dysse', 'Runddysse', 'Andet historisk anlæg', 'Fæstningsanlæg', 'Oldtidsvej', 'Vikingeborg', 'Oldtidsminde'], 'land_landemaerke': ['Kirke', 'Fyrtårn', 'Vejrmølle', 'Herregård', 'Slot'], 'land_udflugt': ['Udsigtspunkt', 'Naturområde', 'Fugletårn/Udsigtstårn', 'Badestrand/-sted', 'Blå Flag strand', 'Badepunkt', 'Badevandsflag']}}, 'linestring': {}, 'polygon': {'sommerhus': {'land_anvendelse': ['Sommerhusområde skov', 'Sommerhusområde']}, 'verify': {'land_anvendelse': ['Andre', 'Erhverv', 'Energiforsyningsanlæg', 'Militært anlæg', 'Høj bebyggelse', 'Lufthavn', 'Affaldsanlæg']}, 'nature': {'land_anvendelse': ['Løvtræ', 'Blandet', 'Sandklit', 'Skov', 'Sø', 'Vådområde', 'Hede', 'Nåletræ', 'Kratbevoksning'], 'land_beskyttnatur_flade': ['Beskyttet natur'], 'land_frednatpark': ['Fredet område', 'Bekendtgørelsesfredning', 'Naturnationalpark', 'Naturpark', 'Nationalpark'], 'land_vaerdifuld': ['Naturbeskyttelsesområde']}, 'culture': {'land_anvendelse': ['Bykerne'], 'land_vaerdifuld': ['Værdifuldt kulturmiljø', 'Bevaringsværdig landskab', 'Kulturhistorisk bevaringsværdi']}, 'agriculture': {'land_anvendelse': ['Dyrkede afgrøder på marker', 'Afgræssede marker', 'Braklagte marker']}}}\n"
     ]
    }
   ],
   "source": [
    "# create a dictionary of evaluation layers (based on config file inputs)\n",
    "\n",
    "layer_dict = {}\n",
    "\n",
    "for geomtype in geomtypes:\n",
    "\n",
    "    layer_dict[geomtype] = {}\n",
    "\n",
    "    # determine evaluation layers\n",
    "    layers = []\n",
    "    for v in config_layers[geomtype].values():\n",
    "        layers += list(set(v.values()))\n",
    "    layers = list(set(layers))\n",
    "    \n",
    "    # determine data sets that go into each layer\n",
    "\n",
    "    # key is name of merged output layer, value is a dict \n",
    "    for layer in layers:\n",
    "        layer_dict[geomtype][layer] = {}\n",
    "    \n",
    "    # adding data source as key to dictindict IF relevant to layer\n",
    "    for datasource, vdict in config_layers[geomtype].items():\n",
    "        for layer in (set(vdict.values())):\n",
    "            layer_dict[geomtype][layer][datasource] = []\n",
    "    \n",
    "    for datasource, vdict in config_layers[geomtype].items():\n",
    "        for k, v in vdict.items():\n",
    "            layer_dict[geomtype][v][datasource] += [k]\n",
    "\n",
    "for geomtype in geomtypes:\n",
    "    if \"ignore\" in layer_dict[geomtype]:\n",
    "        del layer_dict[geomtype][\"ignore\"]\n",
    "\n",
    "print(layer_dict)"
   ]
  },
  {
   "cell_type": "code",
   "execution_count": 8,
   "metadata": {},
   "outputs": [
    {
     "name": "stdout",
     "output_type": "stream",
     "text": [
      "point\n",
      "\t facility\n",
      "\t \t 0320 facilit_rasteplads\n",
      "\t \t 0320 facilit_service\n",
      "\t facility saved\n",
      "\t service\n",
      "\t \t 0320 facilit_indkoeb\n",
      "\t \t 0320 facilit_overnatning\n",
      "\t \t 0320 facilit_service\n",
      "\t service saved\n",
      "\t poi\n",
      "\t \t 0320 land_besoegs\n",
      "\t \t 0320 land_fortid\n",
      "\t \t 0320 land_landemaerke\n",
      "\t \t 0320 land_udflugt\n",
      "\t poi saved\n",
      "linestring\n",
      "polygon\n",
      "\t sommerhus\n",
      "\t \t 0320 land_anvendelse\n",
      "\t sommerhus saved\n",
      "\t verify\n",
      "\t \t 0320 land_anvendelse\n",
      "\t verify saved\n",
      "\t nature\n",
      "\t \t 0320 land_anvendelse\n",
      "\t \t 0320 land_beskyttnatur_flade\n",
      "\t \t 0320 land_frednatpark\n",
      "\t \t 0320 land_vaerdifuld\n",
      "\t nature saved\n",
      "\t culture\n",
      "\t \t 0320 land_anvendelse\n",
      "\t \t 0320 land_vaerdifuld\n",
      "\t culture saved\n",
      "\t agriculture\n",
      "\t \t 0320 land_anvendelse\n",
      "\t agriculture saved\n"
     ]
    }
   ],
   "source": [
    "# for each layer type (point/linestring/polygon),\n",
    "for geomtype in geomtypes:\n",
    "\n",
    "    print(geomtype)\n",
    "    \n",
    "    # go through all evaluation layers for that geomtype... \n",
    "    for layername, datadict in layer_dict[geomtype].items():\n",
    "    \n",
    "        print(\"\\t\", layername)\n",
    "        final_gdf = gpd.GeoDataFrame()\n",
    "        \n",
    "        # go through each data source for that evaluation layer...\n",
    "        for k, v in datadict.items():\n",
    "\n",
    "            gdf = gpd.GeoDataFrame()\n",
    "\n",
    "            # and fetch it for each municipality\n",
    "            for code in codes:\n",
    "                print(\"\\t \\t\", code, k)\n",
    "                # for each code, check if file exists, if yes: read it in, if not empty: concatenate\n",
    "                fp = f\"../data/{geomtype}/{code}/{k}.gpkg\"\n",
    "                if os.path.exists(fp):\n",
    "                    gdf_muni = gpd.read_file(fp)\n",
    "                    if not gdf_muni.empty:\n",
    "                        gdf = pd.concat(\n",
    "                            [\n",
    "                                gdf,\n",
    "                                gdf_muni\n",
    "                            ]\n",
    "                        )\n",
    "\n",
    "            # if at least one of the municipalities has data from this data source,\n",
    "            # add it to final gdf\n",
    "            if not gdf.empty:\n",
    "                final_gdf = pd.concat(\n",
    "                    [\n",
    "                        final_gdf,\n",
    "                        gdf[gdf[\"type\"].isin(v)]\n",
    "                    ]\n",
    "                )\n",
    "\n",
    "        # save evaluation layer to file, if not empty\n",
    "        if not final_gdf.empty:\n",
    "            final_gdf = final_gdf.reset_index(drop=True)\n",
    "            final_gdf.to_file(\n",
    "                f\"../input-for-bike-node-planner/{geomtype}/{layername}.gpkg\", \n",
    "                index = False\n",
    "            )\n",
    "            print(\"\\t\", f\"{layername} saved\")\n",
    "        else:\n",
    "            print(\"\\t\", f\"No data found for layer {layername}\")"
   ]
  },
  {
   "cell_type": "markdown",
   "metadata": {},
   "source": [
    "**Elevation**"
   ]
  },
  {
   "cell_type": "code",
   "execution_count": 9,
   "metadata": {},
   "outputs": [
    {
     "name": "stdout",
     "output_type": "stream",
     "text": [
      "Data folder cleaned!\n",
      "Downloading and merging elevation data. This may take a while... \n",
      "Elevation data downloaded! Starting to merge...\n"
     ]
    },
    {
     "name": "stderr",
     "output_type": "stream",
     "text": [
      "/Users/anvy/anaconda3/envs/knupu/lib/python3.11/site-packages/osgeo/gdal.py:287: FutureWarning: Neither gdal.UseExceptions() nor gdal.DontUseExceptions() has been explicitly called. In GDAL 4.0, exceptions will be enabled by default.\n",
      "  warnings.warn(\n"
     ]
    },
    {
     "name": "stdout",
     "output_type": "stream",
     "text": [
      "Elevation data ready!\n"
     ]
    }
   ],
   "source": [
    "exec(open(\"./prepare_elevation_data.py\").read())"
   ]
  },
  {
   "cell_type": "code",
   "execution_count": 13,
   "metadata": {},
   "outputs": [
    {
     "name": "stdout",
     "output_type": "stream",
     "text": [
      "All done! Now you can copy-paste \n",
      "all subfolders of '/input-for-bike-node-planner/' \n",
      "into the '/data/input/' folder of the main repo\n"
     ]
    }
   ],
   "source": [
    "print(\"All done! Now you can copy-paste \\nall subfolders of '/input-for-bike-node-planner/' \\ninto the '/data/input/' folder of the main repo\")"
   ]
  },
  {
   "cell_type": "code",
   "execution_count": null,
   "metadata": {},
   "outputs": [],
   "source": []
  }
 ],
 "metadata": {
  "kernelspec": {
   "display_name": "Python 3",
   "language": "python",
   "name": "python3"
  },
  "language_info": {
   "codemirror_mode": {
    "name": "ipython",
    "version": 3
   },
   "file_extension": ".py",
   "mimetype": "text/x-python",
   "name": "python",
   "nbconvert_exporter": "python",
   "pygments_lexer": "ipython3",
   "version": "3.11.5"
  }
 },
 "nbformat": 4,
 "nbformat_minor": 2
}
