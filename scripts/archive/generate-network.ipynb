{
 "cells": [
  {
   "cell_type": "markdown",
   "metadata": {},
   "source": [
    "# workflow\n",
    "\n",
    "is it the same data as https://github.com/anastassiavybornova/knudepunkter/blob/main/src/wfs_func.py#L87 ?\n",
    "\n",
    "currently cf simplification_api_knupu notebook in simplification\n",
    "\n",
    "* install sgeop bleeding edge\n",
    "* import all raw edges\n",
    "* to proj crs\n",
    "* buffer around all edges (custom, now: 20m)\n",
    "* union of buffer polygons\n",
    "* get boundary and explode it\n",
    "* drop too-short linestrings (loops within)\n",
    "* polygonize\n",
    "* only keep those polygons that have interiors\n",
    "* now we have one polygon per network compoentn\n",
    "* for each polygon:\n",
    "\t* get delineation (all interiors and the exterior)\n",
    "\t* unzip delineation lines, with modulo caveat not to lose geoms\n",
    "\t* skeletonize (delineation lines and comp poly) with sgeop.geometry.voronoi_skeleton\n",
    "\t* convert to nx\n",
    "\t* should be only 1 component!! (#TODO : consolidate nodes with sgeop.nodes.consolidate_nodes OR shapely.snap?) \n",
    "\t* iteratively remove degree-one nodes if dangling edge is short enough\n",
    "\t* remove false nodes\n",
    "\t* convert back to nx\n",
    "* combine into one networkx object\n",
    "* save "
   ]
  },
  {
   "cell_type": "code",
   "execution_count": null,
   "metadata": {},
   "outputs": [],
   "source": [
    "# https://geofa.geodanmark.dk/ows/fkg/fkg"
   ]
  },
  {
   "cell_type": "code",
   "execution_count": null,
   "metadata": {},
   "outputs": [],
   "source": [
    "from owslib.wfs import WebFeatureService\n",
    "import os\n",
    "from qgis.core import QgsVectorLayer\n",
    "from qgis import processing"
   ]
  },
  {
   "cell_type": "code",
   "execution_count": null,
   "metadata": {},
   "outputs": [],
   "source": [
    "def fix_geometries(input_layer):\n",
    "    \"\"\"\n",
    "    Fix invalid geometries in input layer and return temporary layer with valid geoms\n",
    "\n",
    "    Arguments:\n",
    "        input_layer (vector layer): layer with (potentially) invalid geoms\n",
    "\n",
    "    Returns:\n",
    "        fixed_layer: vector layer with valid geoms\n",
    "    \"\"\"\n",
    "\n",
    "    fixed_layer = processing.run(\n",
    "        \"native:fixgeometries\", {\"INPUT\": input_layer, \"OUTPUT\": \"TEMPORARY_OUTPUT\"}\n",
    "    )[\"OUTPUT\"]\n",
    "\n",
    "    return fixed_layer\n",
    "\n",
    "\n",
    "def clip_save_layer(input_layer, study_area_vlayer, filepath, layer_name):\n",
    "    \"\"\"\n",
    "    Clip input layer with vector layer and save as geopackage\n",
    "\n",
    "    Arguments:\n",
    "        input_layer (vector layer): layer to be clipped\n",
    "        study_area_vlayer (vector layer): vector layer defining clip extent\n",
    "        filepath (str): filepath for saving clipped layer\n",
    "        layer_name (str): name of layer for print statement\n",
    "\n",
    "    Returns:\n",
    "        None\n",
    "    \"\"\"\n",
    "    clip_params = {\n",
    "        \"INPUT\": input_layer,\n",
    "        \"OVERLAY\": study_area_vlayer,\n",
    "        \"OUTPUT\": filepath,\n",
    "    }\n",
    "\n",
    "    # clip to study area polygon\n",
    "    processing.run(\"native:clip\", clip_params)\n",
    "\n",
    "    print(f\"Saved layer {layer_name}\")\n",
    "\n",
    "    return None\n",
    "\n",
    "\n",
    "def get_wfs_layers(\n",
    "    study_area_vlayer, bounds, wfs_core, wfs_name, wfs_version, homepath, proj_crs\n",
    "):\n",
    "    \"\"\"\n",
    "    - creates a new subdir for WFS connection\n",
    "    - downloads all available layers from the WFS connection\n",
    "    - clips all layers to the extent of study area\n",
    "    - saves all layers to new directory as geopackage\n",
    "\n",
    "    Arguments:\n",
    "        study_area_vlayer (vector layer): vector layer defining the study area/clip extent\n",
    "        bounds (tuple): bounds for WFS request\n",
    "        wfs_core (str): base url for WFS connection. E.g. f\"https://rida-services.test.septima.dk/ows?MAP={wfs_name}&service=WFS\"\n",
    "        wfs_name (str): name of WFS used to create new directory for storing data (usually same as the name used in the base WFS url)\n",
    "        wfs_version (str): version of WFS for WFS request\n",
    "        homepath (str): homepath for QGIS project\n",
    "        proj_crs (str): CRS in the format \"EPSG:XXXX\" used for WFS request\n",
    "\n",
    "    Returns:\n",
    "        None\n",
    "    \"\"\"\n",
    "\n",
    "    # define bounds\n",
    "    minx, miny, maxx, maxy = bounds\n",
    "\n",
    "    # define WFS URL\n",
    "    wfs_url_get = wfs_core + \"&request=GetCapabilities\"\n",
    "    wfs = WebFeatureService(url=wfs_url_get, version=wfs_version)\n",
    "\n",
    "    layers_to_import = list(wfs.contents)\n",
    "\n",
    "    print(\"Importing layers:\", layers_to_import, \"from WFS: \", wfs_name)\n",
    "\n",
    "    wfs_dir = homepath + f\"/data/raw/wfs/\"\n",
    "\n",
    "    if not os.path.isdir(wfs_dir):\n",
    "        os.mkdir(wfs_dir)\n",
    "\n",
    "    wfs_layer_dir = homepath + f\"/data/raw/wfs/{wfs_name}/\"\n",
    "\n",
    "    if not os.path.isdir(wfs_layer_dir):\n",
    "        os.mkdir(wfs_layer_dir)\n",
    "\n",
    "    for layer in layers_to_import:\n",
    "        filepath = wfs_layer_dir + layer + \".gpkg\"\n",
    "\n",
    "        print(\"Getting data for layer:\", layer)\n",
    "\n",
    "        wfs_url = (\n",
    "            wfs_core\n",
    "            + f\"&request=GetFeature&typeName={layer}&SRSName=EPSG:25832&BBOX={minx},{miny},{maxx},{maxy}\"\n",
    "        )\n",
    "\n",
    "        Source = f\"pagingEnabled='true' preferCoordinatesForWfsT11='false' restrictToRequestBBOX='1' srsname={proj_crs} typename={layer} url={wfs_url} version='auto'\"\n",
    "\n",
    "        # initialize vector layer of WFS features\n",
    "        temp_layer = QgsVectorLayer(Source, layer, \"WFS\")\n",
    "\n",
    "        fixed_layer = fix_geometries(temp_layer)\n",
    "\n",
    "        clip_save_layer(fixed_layer, study_area_vlayer, filepath, layer)"
   ]
  },
  {
   "cell_type": "code",
   "execution_count": 1,
   "metadata": {},
   "outputs": [],
   "source": [
    "import geopandas as gpd\n",
    "import folium\n",
    "import momepy\n",
    "import matplotlib.pyplot as plt\n",
    "import shapely\n",
    "import numpy as np\n",
    "from esda.shape import convex_hull_ratio"
   ]
  },
  {
   "cell_type": "code",
   "execution_count": 2,
   "metadata": {},
   "outputs": [],
   "source": [
    "proj_crs = 'EPSG:25832'\n",
    "length_threshold = 750 # in meters"
   ]
  },
  {
   "cell_type": "code",
   "execution_count": null,
   "metadata": {},
   "outputs": [],
   "source": [
    "gpd.__version__"
   ]
  },
  {
   "cell_type": "code",
   "execution_count": 4,
   "metadata": {},
   "outputs": [],
   "source": [
    "nodes = gpd.read_file(\"../data/cykelknudepunkter.geojson\") #.to_crs(proj_crs)\n",
    "edges = gpd.read_file(\"../data/cykelknudepunktsstraekninger.geojson\") #.to_crs(proj_crs)"
   ]
  },
  {
   "cell_type": "code",
   "execution_count": 5,
   "metadata": {},
   "outputs": [],
   "source": [
    "nodes_old = gpd.read_file(\"../data/network-technical/nodes.gpkg\")\n",
    "edges_old = gpd.read_file(\"../data/network-technical/edges.gpkg\")"
   ]
  },
  {
   "cell_type": "code",
   "execution_count": null,
   "metadata": {},
   "outputs": [],
   "source": [
    "#m=nodes[[\"geometry\"]].explore(tiles = \"cartodb positron\", name = \"nodes\", color = \"red\", prefer_canvas=True)\n",
    "m=edges_old[[\"geometry\"]].explore(name = \"edges_old\", color = \"blue\")\n",
    "edges[[\"geometry\"]].explore(m=m,name=\"edges\", color = \"green\")\n",
    "folium.LayerControl().add_to(m)\n",
    "m"
   ]
  },
  {
   "cell_type": "markdown",
   "metadata": {},
   "source": [
    "***"
   ]
  },
  {
   "cell_type": "code",
   "execution_count": null,
   "metadata": {},
   "outputs": [],
   "source": [
    "geom = edges.buffer(20).union_all()\n",
    "ser = gpd.GeoSeries([geom], crs = edges.crs)\n",
    "bou = ser.boundary\n",
    "bou = bou.explode().reset_index(drop=True)\n",
    "bou = gpd.GeoDataFrame({\"geometry\":bou}, crs = edges.crs)"
   ]
  },
  {
   "cell_type": "markdown",
   "metadata": {},
   "source": []
  },
  {
   "cell_type": "markdown",
   "metadata": {},
   "source": []
  },
  {
   "cell_type": "code",
   "execution_count": null,
   "metadata": {},
   "outputs": [],
   "source": [
    "# drop too-short linestrings\n",
    "bou_red = bou[bou.length>length_threshold].copy()\n",
    "\n",
    "# polygonize\n",
    "poly = shapely.polygonize(\n",
    "    np.array(\n",
    "        bou_red.geometry\n",
    "    )\n",
    ")\n",
    "\n",
    "gdf = gpd.GeoDataFrame(\n",
    "    {\n",
    "        \"geometry\": poly.geoms\n",
    "    },\n",
    "    crs = edges.crs\n",
    ")\n",
    "\n",
    "gdf[\"i\"] = gdf.index"
   ]
  },
  {
   "cell_type": "code",
   "execution_count": null,
   "metadata": {},
   "outputs": [],
   "source": [
    "gdf = gdf[[i!=[] for i in gdf.interiors]].reset_index(drop=True)"
   ]
  },
  {
   "cell_type": "code",
   "execution_count": null,
   "metadata": {},
   "outputs": [],
   "source": [
    "gdf"
   ]
  },
  {
   "cell_type": "markdown",
   "metadata": {},
   "source": [
    "***\n",
    "\n",
    "# skeletonize separately"
   ]
  },
  {
   "cell_type": "code",
   "execution_count": null,
   "metadata": {},
   "outputs": [],
   "source": [
    "delin = gpd.GeoDataFrame(\n",
    "    {\n",
    "        \"geometry\":\n",
    "        [\n",
    "            LineString(r) for r in gdf.interiors] + [LineString(highway.exterior)\n",
    "        ]\n",
    "    },\n",
    "    crs = roads.crs\n",
    ")\n",
    "delin"
   ]
  },
  {
   "cell_type": "code",
   "execution_count": null,
   "metadata": {},
   "outputs": [],
   "source": [
    "def unzip_line(geom, coordnum = 30):\n",
    "    longline = [c for c in geom.coords]\n",
    "    linestrings = []\n",
    "    current_linestring = []\n",
    "    for c in longline:\n",
    "        current_linestring.append(c)\n",
    "        if len(current_linestring) > coordnum:\n",
    "            linestrings.append(LineString(current_linestring))\n",
    "            del current_linestring\n",
    "            current_linestring = [c]\n",
    "    if current_linestring:\n",
    "        linestrings.append(LineString(current_linestring))\n",
    "    return linestrings"
   ]
  },
  {
   "cell_type": "code",
   "execution_count": null,
   "metadata": {},
   "outputs": [],
   "source": [
    "all_lines = []\n",
    "\n",
    "for geom in delin.geometry:\n",
    "    all_lines+= (\n",
    "        unzip_line(geom, my_coordnum)\n",
    "    )"
   ]
  },
  {
   "cell_type": "code",
   "execution_count": null,
   "metadata": {},
   "outputs": [],
   "source": [
    "lines = gpd.GeoDataFrame({\"geometry\": all_lines}, crs = roads.crs)\n",
    "lines[\"i\"] = lines.index\n",
    "lines.explore(tiles=\"cartodb positron\", column=\"i\")"
   ]
  },
  {
   "cell_type": "code",
   "execution_count": null,
   "metadata": {},
   "outputs": [],
   "source": [
    "skel = voronoi_skeleton(\n",
    "    lines = lines.geometry,\n",
    "    poly = highway,\n",
    "    max_segment_length = my_maxseglen\n",
    ")"
   ]
  },
  {
   "cell_type": "code",
   "execution_count": null,
   "metadata": {},
   "outputs": [],
   "source": [
    "gdf.interiors"
   ]
  },
  {
   "cell_type": "code",
   "execution_count": null,
   "metadata": {},
   "outputs": [],
   "source": [
    "gdf.filter([16,18,21], axis = 0).plot()"
   ]
  },
  {
   "cell_type": "code",
   "execution_count": null,
   "metadata": {},
   "outputs": [],
   "source": []
  }
 ],
 "metadata": {
  "kernelspec": {
   "display_name": "knupu",
   "language": "python",
   "name": "python3"
  },
  "language_info": {
   "codemirror_mode": {
    "name": "ipython",
    "version": 3
   },
   "file_extension": ".py",
   "mimetype": "text/x-python",
   "name": "python",
   "nbconvert_exporter": "python",
   "pygments_lexer": "ipython3",
   "version": "3.12.5"
  }
 },
 "nbformat": 4,
 "nbformat_minor": 2
}
