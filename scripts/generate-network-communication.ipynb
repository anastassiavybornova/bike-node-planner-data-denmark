{
 "cells": [
  {
   "cell_type": "markdown",
   "metadata": {},
   "source": [
    "# Generate communication network\n",
    "\n",
    "\n",
    "This notebook contains the workflow to simplify the technical knudepunkter network (raw input data from GeoFA) into the \"communication\" network where we only have 1 node at each intersection, and only 1 edge at each street (i.e. no parallel lines even when network runs on both sides of a street, etc.)\n",
    "\n",
    "Final output: a gdf which can be directly converted into a simplfied network by `momepy.gdf_to_nx` (see notebook [`read-network.ipynb`](./read-network.ipynb) for sample code)\n",
    "\n",
    "> Caveat: the voronoi skeletonization takes several hours to run for the largest network components\n",
    "\n",
    "* ~~install sgeop bleeding edge~~\n",
    "* ~~import all raw edges~~\n",
    "* ~~to proj crs~~\n",
    "* ~~buffer around all edges (custom, now: 25m)~~\n",
    "* ~~union of buffer polygons~~\n",
    "* ~~get boundary and explode it~~\n",
    "* ~~drop too-short linestrings (assuming loops within)~~\n",
    "* ~~polygonize~~\n",
    "* ~~only keep those polygons that have interiors~~\n",
    "* ~~now we have one polygon per network component~~\n",
    "* ~~for each polygon:~~\n",
    "\t* get delineation (all interiors and the exterior)\n",
    "\t* unzip delineation lines, with modulo caveat not to lose geoms\n",
    "\t* skeletonize (delineation lines and comp poly) with sgeop.geometry.voronoi_skeleton\n",
    "\t* convert to nx\n",
    "\t* should be only 1 component!! (#TODO : consolidate nodes with sgeop.nodes.consolidate_nodes OR shapely.snap?) \n",
    "\t* iteratively remove degree-one nodes if dangling edge is short enough\n",
    "\t* remove false nodes\n",
    "* ~~combine into one geodataframe~~\n",
    "* ~~save~~ "
   ]
  },
  {
   "cell_type": "markdown",
   "metadata": {},
   "source": [
    "**todo: check whether we can get data from [here](https://geofa-kort.geodanmark.dk/app/fkg/?config=/api/v2/configuration/fkg/configuration_fkg_udgivet_5f465f5d3181f687353260.json#Basis_kort/11/12.0939/55.2226/fkg.t_5609_cykelknudepunktsstraekninger,fkg.t_5608_cykelknudepunkter) and what the difference is**\n",
    "\n",
    "(https://geofa.geodanmark.dk/ows/fkg/fkg)\n",
    "\n",
    "if so: start with `./src/wfs-func.py`, we already have some functions defined there for WFS import"
   ]
  },
  {
   "cell_type": "code",
   "execution_count": 136,
   "metadata": {},
   "outputs": [],
   "source": [
    "# import libraries\n",
    "import os\n",
    "import osmnx as ox\n",
    "import pandas as pd\n",
    "import geopandas as gpd\n",
    "import folium\n",
    "import momepy\n",
    "import networkx as nx\n",
    "import matplotlib.pyplot as plt\n",
    "import shapely\n",
    "from shapely.geometry import LineString\n",
    "import numpy as np\n",
    "from sgeop.geometry import voronoi_skeleton\n",
    "from src.nw import unzip_line, drop_dangling_edges_iter\n",
    "import time"
   ]
  },
  {
   "cell_type": "markdown",
   "metadata": {},
   "source": [
    "make folders for output"
   ]
  },
  {
   "cell_type": "code",
   "execution_count": null,
   "metadata": {},
   "outputs": [],
   "source": [
    "os.makedirs(\"../data/network-communication/\", exist_ok=True)\n",
    "os.makedirs(\"../data/network-communication/raw/\", exist_ok=True)"
   ]
  },
  {
   "cell_type": "markdown",
   "metadata": {},
   "source": [
    "define parameters"
   ]
  },
  {
   "cell_type": "code",
   "execution_count": null,
   "metadata": {},
   "outputs": [],
   "source": [
    "# define parameters\n",
    "proj_crs = 'EPSG:25832' # in meters\n",
    "my_buffer = 25 # in meters: buffer around edges for skeletonization\n",
    "my_length_threshold = 500 # in meters: buffered edge polygon boundaries below will be dropped (assuming interior, not actual loop)\n",
    "my_maxseglen = 30 # in meters: for voronoi skeletonization\n",
    "my_danglefactor = 2.5 # _dangling_ edges of length below my_buffer * my_danglefactor will be considered too short to keep in NW"
   ]
  },
  {
   "cell_type": "markdown",
   "metadata": {},
   "source": [
    "load input data"
   ]
  },
  {
   "cell_type": "code",
   "execution_count": null,
   "metadata": {},
   "outputs": [],
   "source": [
    "# load \"technical\" files\n",
    "nodes = gpd.read_file(\"../data/network-technical/nodes.gpkg\")\n",
    "nodes = nodes.to_crs(proj_crs)\n",
    "edges = gpd.read_file(\"../data/network-technical/edges.gpkg\")\n",
    "edges = edges.to_crs(proj_crs)"
   ]
  },
  {
   "cell_type": "code",
   "execution_count": null,
   "metadata": {},
   "outputs": [],
   "source": [
    "## map to check data\n",
    "# m=edges[[\"geometry\"]].explore(tiles = \"cartodb positron\", name = \"edges\", color = \"blue\", prefer_canvas=True)\n",
    "# nodes[[\"geometry\"]].explore(m=m,name=\"nodes\", color = \"green\")\n",
    "# folium.LayerControl().add_to(m)\n",
    "# m"
   ]
  },
  {
   "cell_type": "markdown",
   "metadata": {},
   "source": [
    "for generating a connected network, first: get boundaries of polygon buffers around edges"
   ]
  },
  {
   "cell_type": "code",
   "execution_count": null,
   "metadata": {},
   "outputs": [],
   "source": [
    "# \"bou\" is set of boundaries of polygons from buffered edges\n",
    "geom = edges.buffer(my_buffer).union_all()\n",
    "ser = gpd.GeoSeries([geom], crs = edges.crs)\n",
    "bou = ser.boundary\n",
    "bou = bou.explode().reset_index(drop=True)\n",
    "bou = gpd.GeoDataFrame({\"geometry\":bou}, crs = edges.crs)\n",
    "bou[\"length\"] = bou.length"
   ]
  },
  {
   "cell_type": "code",
   "execution_count": null,
   "metadata": {},
   "outputs": [],
   "source": [
    "## map to check which boundaries will be dropped\n",
    "# m=bou[bou.length<=my_length_threshold].explore(tiles = \"cartodb positron\", color = \"red\", style_kwds={\"weight\":4}, name=\"drop\")\n",
    "# edges.explore(m=m, color = \"black\", name = \"edges\", style_kwds={\"weight\":1}) \n",
    "# nodes.explore(m=m, color = \"blue\", name = \"nodes\")\n",
    "# folium.LayerControl().add_to(m)\n",
    "# m"
   ]
  },
  {
   "cell_type": "markdown",
   "metadata": {},
   "source": [
    "drop boundaries below length threshold"
   ]
  },
  {
   "cell_type": "code",
   "execution_count": null,
   "metadata": {},
   "outputs": [],
   "source": [
    "# drop too-short linestrings\n",
    "bou_red = bou[bou.length>my_length_threshold].copy()"
   ]
  },
  {
   "cell_type": "markdown",
   "metadata": {},
   "source": [
    "polygonize linestrings as input for skeletonization"
   ]
  },
  {
   "cell_type": "code",
   "execution_count": null,
   "metadata": {},
   "outputs": [],
   "source": [
    "# polygonize\n",
    "poly = shapely.polygonize(\n",
    "    np.array(\n",
    "        bou_red.geometry\n",
    "    )\n",
    ")\n",
    "\n",
    "gdf = gpd.GeoDataFrame(\n",
    "    {\n",
    "        \"geometry\": poly.geoms\n",
    "    },\n",
    "    crs = edges.crs\n",
    ")\n",
    "\n",
    "# only keep those polygons that have interiors\n",
    "gdf = gdf[[i!=[] for i in gdf.interiors]].reset_index(drop=True)\n",
    "\n",
    "# sort by area\n",
    "gdf[\"area\"] = gdf.area\n",
    "gdf = gdf.sort_values(by=\"area\").reset_index(drop=True)\n",
    "del gdf[\"area\"]\n",
    "\n",
    "gdf[\"i\"] = gdf.index"
   ]
  },
  {
   "cell_type": "code",
   "execution_count": null,
   "metadata": {},
   "outputs": [],
   "source": [
    "print(len(gdf))"
   ]
  },
  {
   "cell_type": "markdown",
   "metadata": {},
   "source": [
    "**skeletonize (each component/polygon separately)**"
   ]
  },
  {
   "cell_type": "code",
   "execution_count": null,
   "metadata": {},
   "outputs": [],
   "source": [
    "for i, comp in enumerate(gdf.geometry):\n",
    "\n",
    "    # get comp geom\n",
    "    print(f\"comp {i}:\", np.round(comp.area/10**6, 2), \"km2\")\n",
    "\n",
    "    # get delineation\n",
    "    delin = gpd.GeoDataFrame(\n",
    "        {\n",
    "            \"geometry\":\n",
    "            [\n",
    "                LineString(r) for r in comp.interiors] + [LineString(comp.exterior)\n",
    "            ]\n",
    "        },\n",
    "        crs = edges.crs\n",
    "    )\n",
    "\n",
    "    # unzip lines into 2-point edges\n",
    "    all_lines = []\n",
    "    for geom in delin.geometry:\n",
    "        all_lines+= (unzip_line(geom))\n",
    "    lines = gpd.GeoDataFrame({\"geometry\": all_lines}, crs = edges.crs)\n",
    "    lines[\"i\"] = lines.index\n",
    "\n",
    "    # skeletonize\n",
    "    print(f\"skeletonizing comp {i}...\")\n",
    "    t1 = time.time()\n",
    "    skel = voronoi_skeleton(\n",
    "        lines = lines.geometry,\n",
    "        poly = comp,\n",
    "        max_segment_length = my_maxseglen\n",
    "    )\n",
    "    t2 = time.time()\n",
    "    t = np.round(t2-t1)\n",
    "    print(f\"finished in {t} seconds\")\n",
    "    skel_gdf = gpd.GeoDataFrame({\"geometry\":skel[0]}, crs = edges.crs)\n",
    "\n",
    "    # dropping dangling edges from skeletonization\n",
    "\n",
    "    # save raw skel (for merging if disconnected)\n",
    "    skel_gdf[[\"geometry\"]].to_file(f\"../data/network-communication/raw/{i}_skel.gpkg\", index = False)\n",
    "    edges_rem = drop_dangling_edges_iter(skel_gdf, my_danglefactor, my_buffer)\n",
    "\n",
    "    # convert to network to check component number\n",
    "    G_rem = momepy.gdf_to_nx(gdf_network = edges_rem, multigraph=False, integer_labels=True)\n",
    "    comps = sorted([c for c in nx.connected_components(G_rem)], key=len, reverse=True)\n",
    "    print(f\"Comps lens for {i}: \", [len(c) for c in comps])\n",
    "\n",
    "    # save file\n",
    "    edges_rem[[\"geometry\"]].to_file(f\"../data/network-communication/raw/{i}.gpkg\", index = False)"
   ]
  },
  {
   "cell_type": "code",
   "execution_count": null,
   "metadata": {},
   "outputs": [],
   "source": [
    "# # map to check outputs\n",
    "# m=lines.explore(tiles=\"cartodb positron\", column=\"i\", name = \"lines\")\n",
    "# nodes.explore(m=m, name = \"nodes\")\n",
    "# edges.explore(m=m, name = \"edges\")\n",
    "# skel_gdf.explore(m=m, name = \"skel\", color = \"red\")\n",
    "# edges_rem.explore(m=m, name = \"edges_rem\", color = \"orange\")\n",
    "# folium.LayerControl().add_to(m)\n",
    "# m"
   ]
  },
  {
   "cell_type": "markdown",
   "metadata": {},
   "source": [
    "combine all component gdfs into one network to save as graphml"
   ]
  },
  {
   "cell_type": "code",
   "execution_count": 126,
   "metadata": {},
   "outputs": [],
   "source": [
    "gdfs = []\n",
    "for i in range(len(gdf)):\n",
    "    sub_gdf = gpd.read_file(f\"../data/network-communication/raw/{i}.gpkg\")\n",
    "    sub_gdf[\"comp\"] = i\n",
    "    gdfs.append(sub_gdf)"
   ]
  },
  {
   "cell_type": "code",
   "execution_count": 127,
   "metadata": {},
   "outputs": [],
   "source": [
    "gdfs = pd.concat(gdfs).reset_index(drop=True)"
   ]
  },
  {
   "cell_type": "code",
   "execution_count": 134,
   "metadata": {},
   "outputs": [],
   "source": [
    "gdfs.to_file(\"../data/network-communication/gdfs.gpkg\", index = False)"
   ]
  }
 ],
 "metadata": {
  "kernelspec": {
   "display_name": "knupu",
   "language": "python",
   "name": "python3"
  },
  "language_info": {
   "codemirror_mode": {
    "name": "ipython",
    "version": 3
   },
   "file_extension": ".py",
   "mimetype": "text/x-python",
   "name": "python",
   "nbconvert_exporter": "python",
   "pygments_lexer": "ipython3",
   "version": "3.12.5"
  }
 },
 "nbformat": 4,
 "nbformat_minor": 2
}
