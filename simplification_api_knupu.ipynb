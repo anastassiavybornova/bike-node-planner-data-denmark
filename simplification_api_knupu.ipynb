{
 "cells": [
  {
   "cell_type": "code",
   "execution_count": null,
   "metadata": {},
   "outputs": [],
   "source": [
    "import geopandas as gpd\n",
    "import folium\n",
    "import momepy\n",
    "import matplotlib.pyplot as plt\n",
    "import shapely\n",
    "import numpy as np\n",
    "from esda.shape import convex_hull_ratio"
   ]
  },
  {
   "cell_type": "code",
   "execution_count": null,
   "metadata": {},
   "outputs": [],
   "source": [
    "proj_crs = 'EPSG:25832'\n",
    "length_threshold = 750 # in meters"
   ]
  },
  {
   "cell_type": "code",
   "execution_count": null,
   "metadata": {},
   "outputs": [],
   "source": [
    "nodes = gpd.read_file(\"./data/cykelknudepunkter.geojson\").to_crs(proj_crs)\n",
    "edges = gpd.read_file(\"./data/cykelknudepunktsstraekninger.geojson\").to_crs(proj_crs)"
   ]
  },
  {
   "cell_type": "code",
   "execution_count": null,
   "metadata": {},
   "outputs": [],
   "source": [
    "nodes.head(3)"
   ]
  },
  {
   "cell_type": "code",
   "execution_count": null,
   "metadata": {},
   "outputs": [],
   "source": [
    "edges.head(3)"
   ]
  },
  {
   "cell_type": "code",
   "execution_count": null,
   "metadata": {},
   "outputs": [],
   "source": [
    "geom = edges.buffer(20).union_all()\n",
    "ser = gpd.GeoSeries([geom], crs = edges.crs)\n",
    "bou = ser.boundary\n",
    "bou = bou.explode().reset_index(drop=True)\n",
    "bou = gpd.GeoDataFrame({\"geometry\":bou}, crs = edges.crs)"
   ]
  },
  {
   "cell_type": "code",
   "execution_count": null,
   "metadata": {},
   "outputs": [],
   "source": [
    "# drop too-short linestrings\n",
    "bou_red = bou[bou.length>length_threshold].copy()\n",
    "\n",
    "# polygonize\n",
    "poly = shapely.polygonize(\n",
    "    np.array(\n",
    "        bou_red.geometry\n",
    "    )\n",
    ")\n",
    "\n",
    "gdf = gpd.GeoDataFrame(\n",
    "    {\n",
    "        \"geometry\": poly.geoms\n",
    "    },\n",
    "    crs = edges.crs\n",
    ")\n",
    "\n",
    "gdf[\"i\"] = gdf.index"
   ]
  },
  {
   "cell_type": "code",
   "execution_count": null,
   "metadata": {},
   "outputs": [],
   "source": [
    "gdf = gdf[[i!=[] for i in gdf.interiors]].reset_index(drop=True)"
   ]
  },
  {
   "cell_type": "code",
   "execution_count": null,
   "metadata": {},
   "outputs": [],
   "source": [
    "gdf"
   ]
  },
  {
   "cell_type": "markdown",
   "metadata": {},
   "source": [
    "***\n",
    "\n",
    "# skeletonize separately"
   ]
  },
  {
   "cell_type": "code",
   "execution_count": null,
   "metadata": {},
   "outputs": [],
   "source": [
    "delin = gpd.GeoDataFrame(\n",
    "    {\n",
    "        \"geometry\":\n",
    "        [\n",
    "            LineString(r) for r in gdf.interiors] + [LineString(highway.exterior)\n",
    "        ]\n",
    "    },\n",
    "    crs = roads.crs\n",
    ")\n",
    "delin"
   ]
  },
  {
   "cell_type": "code",
   "execution_count": null,
   "metadata": {},
   "outputs": [],
   "source": [
    "def unzip_line(geom, coordnum = 30):\n",
    "    longline = [c for c in geom.coords]\n",
    "    linestrings = []\n",
    "    current_linestring = []\n",
    "    for c in longline:\n",
    "        current_linestring.append(c)\n",
    "        if len(current_linestring) > coordnum:\n",
    "            linestrings.append(LineString(current_linestring))\n",
    "            del current_linestring\n",
    "            current_linestring = [c]\n",
    "    if current_linestring:\n",
    "        linestrings.append(LineString(current_linestring))\n",
    "    return linestrings"
   ]
  },
  {
   "cell_type": "code",
   "execution_count": null,
   "metadata": {},
   "outputs": [],
   "source": [
    "all_lines = []\n",
    "\n",
    "for geom in delin.geometry:\n",
    "    all_lines+= (\n",
    "        unzip_line(geom, my_coordnum)\n",
    "    )"
   ]
  },
  {
   "cell_type": "code",
   "execution_count": null,
   "metadata": {},
   "outputs": [],
   "source": [
    "lines = gpd.GeoDataFrame({\"geometry\": all_lines}, crs = roads.crs)\n",
    "lines[\"i\"] = lines.index\n",
    "lines.explore(tiles=\"cartodb positron\", column=\"i\")"
   ]
  },
  {
   "cell_type": "code",
   "execution_count": null,
   "metadata": {},
   "outputs": [],
   "source": [
    "skel = voronoi_skeleton(\n",
    "    lines = lines.geometry,\n",
    "    poly = highway,\n",
    "    max_segment_length = my_maxseglen\n",
    ")"
   ]
  },
  {
   "cell_type": "code",
   "execution_count": null,
   "metadata": {},
   "outputs": [],
   "source": [
    "gdf.interiors"
   ]
  },
  {
   "cell_type": "code",
   "execution_count": null,
   "metadata": {},
   "outputs": [],
   "source": [
    "gdf.filter([16,18,21], axis = 0).plot()"
   ]
  },
  {
   "cell_type": "code",
   "execution_count": null,
   "metadata": {},
   "outputs": [],
   "source": []
  }
 ],
 "metadata": {
  "kernelspec": {
   "display_name": "knupu",
   "language": "python",
   "name": "python3"
  },
  "language_info": {
   "codemirror_mode": {
    "name": "ipython",
    "version": 3
   },
   "file_extension": ".py",
   "mimetype": "text/x-python",
   "name": "python",
   "nbconvert_exporter": "python",
   "pygments_lexer": "ipython3",
   "version": "3.11.5"
  }
 },
 "nbformat": 4,
 "nbformat_minor": 2
}
