{
 "cells": [
  {
   "cell_type": "markdown",
   "metadata": {},
   "source": [
    "# Creating municipality RIDA layers\n",
    "\n",
    "Assuming that the data we received from Septima by WeTransfer (2 folders with fgb files, plus one separate fgb file) is in the folder `data/RIDA` (from Dropbox [here](https://www.dropbox.com/scl/fo/38gkcvyfex0atdbqe3hfn/h?rlkey=z9xwq2mh6ga03c301b7f66wqx&dl=0))\n",
    "\n",
    "This script imports each of the fgb layers we need and cuts them into muncipality-sized bites; then filters merges them to create our evaluation layers.\n",
    "\n",
    "Run from main repo folder!"
   ]
  },
  {
   "cell_type": "code",
   "execution_count": 13,
   "metadata": {},
   "outputs": [],
   "source": [
    "# import packages\n",
    "import geopandas as gpd\n",
    "import pandas as pd\n",
    "import os\n",
    "import matplotlib.pyplot as plt\n",
    "from collections import Counter\n",
    "import yaml"
   ]
  },
  {
   "cell_type": "code",
   "execution_count": 3,
   "metadata": {},
   "outputs": [],
   "source": [
    "# read in kommuner data and make subfolders\n",
    "muni = gpd.read_file(\"./data/municipality-boundaries/municipality-boundaries.gpkg\")"
   ]
  },
  {
   "cell_type": "code",
   "execution_count": 4,
   "metadata": {},
   "outputs": [],
   "source": [
    "# create subfolders for each municipality\n",
    "for _, row in muni.iterrows():\n",
    "    os.makedirs(f\"data/linestring/{row.kommunekode}\", exist_ok=True)\n",
    "    os.makedirs(f\"data/point/{row.kommunekode}\", exist_ok=True)\n",
    "    os.makedirs(f\"data/polygon/{row.kommunekode}\", exist_ok=True) "
   ]
  },
  {
   "cell_type": "code",
   "execution_count": 5,
   "metadata": {},
   "outputs": [],
   "source": [
    "# dictionary of lists: \n",
    "# key is type of data (point/linestring/polygon);\n",
    "# within each item, list of .fgb filenames for that data type\n",
    "\n",
    "rida_dict = {}\n",
    "\n",
    "rida_dict[\"point\"] = [\n",
    "    \"facilit_indkoeb.fgb\",\n",
    "    \"facilit_overnatning.fgb\",\n",
    "    \"facilit_rasteplads.fgb\",\n",
    "    'facilit_service.fgb',  \n",
    "    'land_besoegs.fgb',  \n",
    "    \"land_fortid.fgb\",\n",
    "    'land_landemaerke.fgb',\n",
    "    'land_udflugt.fgb',\n",
    "]\n",
    "\n",
    "rida_dict[\"linestring\"] = [\n",
    "    'land_beskyttnatur_linje.fgb',\n",
    "    'rute_anden.fgb',\n",
    "    'rute_cykel.fgb',\n",
    "    'rute_vandre.fgb',\n",
    "    'vej_basislinje.fgb',\n",
    "    'vej_hastighedsgraense.fgb',\n",
    "    'vej_myndighed.fgb',\n",
    "    'vej_type.fgb'\n",
    "]\n",
    "\n",
    "rida_dict[\"polygon\"] = [\n",
    "    'land_anvendelse.fgb',\n",
    "    'land_beskyttnatur_flade.fgb',\n",
    "    'land_ejerskab.fgb',\n",
    "    'land_frednatpark.fgb',\n",
    "    'land_vaerdifuld.fgb'\n",
    "]\n",
    "\n",
    "geomtype_dict = {\n",
    "    \"point\": \"Point\",\n",
    "    \"linestring\": \"LineString\",\n",
    "    \"polygon\": \"Polygon\"\n",
    "}"
   ]
  },
  {
   "cell_type": "code",
   "execution_count": 7,
   "metadata": {},
   "outputs": [
    {
     "name": "stdout",
     "output_type": "stream",
     "text": [
      "reading point data\n",
      "\t facilit_indkoeb.fgb...\n",
      "\t facilit_overnatning.fgb...\n",
      "\t facilit_rasteplads.fgb...\n",
      "\t facilit_service.fgb...\n",
      "\t land_besoegs.fgb...\n",
      "\t land_fortid.fgb...\n",
      "\t land_landemaerke.fgb...\n",
      "\t land_udflugt.fgb...\n",
      "reading linestring data\n",
      "\t land_beskyttnatur_linje.fgb...\n",
      "\t rute_anden.fgb...\n",
      "\t rute_cykel.fgb...\n",
      "\t rute_vandre.fgb...\n",
      "\t vej_basislinje.fgb...\n",
      "\t vej_hastighedsgraense.fgb...\n",
      "\t vej_myndighed.fgb...\n",
      "\t vej_type.fgb...\n",
      "reading polygon data\n",
      "\t land_anvendelse.fgb...\n",
      "\t land_beskyttnatur_flade.fgb...\n",
      "\t land_ejerskab.fgb...\n",
      "\t land_frednatpark.fgb...\n",
      "\t land_vaerdifuld.fgb...\n",
      "CPU times: user 5h 49min 26s, sys: 7min 14s, total: 5h 56min 40s\n",
      "Wall time: 8h 15min 39s\n"
     ]
    }
   ],
   "source": [
    "%%time\n",
    "# read in fgb file; \n",
    "# for each of the kommuner, clip fgb file to its extent; \n",
    "# then save in corresponding folder\n",
    "for k, v in rida_dict.items():\n",
    "\n",
    "    print(f\"reading {k} data\")\n",
    "    for fgb in v:\n",
    "        # read in fgb file\n",
    "        print(f\"\\t {fgb}...\")\n",
    "        name = fgb.replace(\".fgb\", \"\")\n",
    "\n",
    "        gdf = gpd.read_file(f\"./data/RIDA/{fgb}\")       \n",
    "        \n",
    "        assert gdf.crs == muni.crs\n",
    "\n",
    "        # for each municipality: clip, clean, and save\n",
    "        for _, row in muni.iterrows():\n",
    "            \n",
    "            gdf_curr = gdf.copy()\n",
    "            \n",
    "            # clip to municipality boundary\n",
    "            gdf_curr = gdf_curr.clip(row.geometry)\n",
    "                \n",
    "            # get the 3 columns \"gruppe\", \"type\", \"geometry\":\n",
    "            if \"gruppe\" in gdf_curr.columns:\n",
    "                gdf_curr = gdf_curr[[\"gruppe\", \"type\", \"geometry\"]]\n",
    "            else:\n",
    "                gdf_curr = gdf_curr[[\"type\", \"geometry\"]]\n",
    "                gdf_curr[\"gruppe\"] = name\n",
    "                gdf_curr = gdf_curr[[\"gruppe\", \"type\", \"geometry\"]]\n",
    "\n",
    "            # explode\n",
    "            gdf_curr = gdf_curr.explode(index_parts=False)\n",
    "\n",
    "            # remove non-expected type geometries\n",
    "            gdf_curr = gdf_curr[gdf_curr.geometry.type == geomtype_dict[k]].copy()\n",
    "            gdf_curr = gdf_curr.reset_index(drop=True)\n",
    "\n",
    "            # save\n",
    "            if not gdf_curr.empty:\n",
    "                gdf_curr.to_file(f\"./data/{k}/{row.kommunekode}/{name}.gpkg\")    \n",
    "        \n",
    "        del gdf"
   ]
  }
 ],
 "metadata": {
  "kernelspec": {
   "display_name": "knupu",
   "language": "python",
   "name": "python3"
  },
  "language_info": {
   "codemirror_mode": {
    "name": "ipython",
    "version": 3
   },
   "file_extension": ".py",
   "mimetype": "text/x-python",
   "name": "python",
   "nbconvert_exporter": "python",
   "pygments_lexer": "ipython3",
   "version": "3.11.5"
  }
 },
 "nbformat": 4,
 "nbformat_minor": 2
}
